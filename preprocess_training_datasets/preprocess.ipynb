{
 "cells": [
  {
   "cell_type": "markdown",
   "id": "555ee865",
   "metadata": {},
   "source": [
    "MvTECH Preprocess"
   ]
  },
  {
   "cell_type": "code",
   "execution_count": 13,
   "id": "288056f5",
   "metadata": {},
   "outputs": [],
   "source": [
    "import os\n",
    "from PIL import Image\n",
    "import pandas as pd\n",
    "data = []\n",
    "parent_folder = '/data/rrjha/AP/AdaCLIP_Denoiser/datasets/mvtec_anomaly_detection'\n",
    "output_csv = '/data/rrjha/AP/AdaCLIP_Denoiser/preprocess_training_datasets/mvtec_image_paths.csv'\n",
    "\n",
    "for subfolder_name in os.listdir(parent_folder):\n",
    "    subfolder_path = os.path.join(parent_folder, subfolder_name)\n",
    "    \n",
    "    if os.path.isdir(subfolder_path):\n",
    "        for img_file in os.listdir(subfolder_path):\n",
    "            if img_file == 'ground_truth':\n",
    "                continue\n",
    "            img_path = os.path.join(subfolder_path, img_file)\n",
    "            \n",
    "            if os.path.isdir(img_path):\n",
    "                for img in os.listdir(img_path):\n",
    "                    img_p = os.path.join(img_path, img)\n",
    "                    for i in os.listdir(img_p):\n",
    "                        ip = os.path.join(img_p, i)\n",
    "                        try:\n",
    "                            with Image.open(ip) as im:\n",
    "                                im.verify()\n",
    "                            data.append({'image_path': ip, 'class': subfolder_name})\n",
    "                        except Exception as e:\n",
    "                            print(f\"Error processing {ip}: {e}\")\n",
    "df = pd.DataFrame(data)\n",
    "df.to_csv(output_csv, index=False)"
   ]
  }
 ],
 "metadata": {
  "kernelspec": {
   "display_name": "AdaCLIP",
   "language": "python",
   "name": "python3"
  },
  "language_info": {
   "codemirror_mode": {
    "name": "ipython",
    "version": 3
   },
   "file_extension": ".py",
   "mimetype": "text/x-python",
   "name": "python",
   "nbconvert_exporter": "python",
   "pygments_lexer": "ipython3",
   "version": "3.9.5"
  }
 },
 "nbformat": 4,
 "nbformat_minor": 5
}
