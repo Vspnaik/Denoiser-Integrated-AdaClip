{
 "cells": [
  {
   "cell_type": "code",
   "execution_count": 15,
   "id": "8b016249",
   "metadata": {},
   "outputs": [
    {
     "name": "stdout",
     "output_type": "stream",
     "text": [
      "Noisy image saved to: /data/rrjha/AP/AdaCLIP_Denoiser/asset/image_noisy.png\n"
     ]
    }
   ],
   "source": [
    "import cv2\n",
    "import numpy as np\n",
    "import os\n",
    "\n",
    "def add_gaussian_noise(image, mean=0, std=35):\n",
    "    noise = np.random.normal(mean, std, image.shape).astype(np.float32)\n",
    "    noisy_img = image.astype(np.float32) + noise\n",
    "    noisy_img = np.clip(noisy_img, 0, 255).astype(np.uint8)\n",
    "    return noisy_img\n",
    "\n",
    "def process_image(path, suffix=\"_noisy\"):\n",
    "    # Read the image\n",
    "    image = cv2.imread(path)\n",
    "    if image is None:\n",
    "        raise FileNotFoundError(f\"Image not found at path: {path}\")\n",
    "\n",
    "    # Add noise\n",
    "    noisy_image = add_gaussian_noise(image)\n",
    "\n",
    "    # Create output path\n",
    "    dir_name, base_name = os.path.split(path)\n",
    "    name, ext = os.path.splitext(base_name)\n",
    "    output_path = os.path.join(dir_name, f\"{name}{suffix}{ext}\")\n",
    "    # Save the noisy image\n",
    "    cv2.imwrite(output_path, noisy_image)\n",
    "    print(f\"Noisy image saved to: {output_path}\")\n",
    "\n",
    "# Example usage:\n",
    "image_path = \"/data/rrjha/AP/AdaCLIP_Denoiser/asset/image.png\"\n",
    "process_image(image_path)\n"
   ]
  },
  {
   "cell_type": "code",
   "execution_count": null,
   "id": "2f5c2bd4",
   "metadata": {},
   "outputs": [
    {
     "name": "stdout",
     "output_type": "stream",
     "text": [
      "752\n"
     ]
    },
    {
     "name": "stderr",
     "output_type": "stream",
     "text": [
      "/tmp/ipykernel_591489/686845631.py:3: FutureWarning: You are using `torch.load` with `weights_only=False` (the current default value), which uses the default pickle module implicitly. It is possible to construct malicious pickle data which will execute arbitrary code during unpickling (See https://github.com/pytorch/pytorch/blob/main/SECURITY.md#untrusted-models for more details). In a future release, the default value for `weights_only` will be flipped to `True`. This limits the functions that could be executed during unpickling. Arbitrary objects will no longer be allowed to be loaded via this mode unless they are explicitly allowlisted by the user via `torch.serialization.add_safe_globals`. We recommend you start setting `weights_only=True` for any use case where you don't have full control of the loaded file. Please open an issue on GitHub for any issues related to this experimental feature.\n",
      "  data = torch.load(path)\n"
     ]
    }
   ],
   "source": [
    "import torch\n",
    "path = '/data/rrjha/AP/AdaCLIP_Denoiser/denoisers/Trained_Weights/Error.pth'\n",
    "data = torch.load(path)"
   ]
  }
 ],
 "metadata": {
  "kernelspec": {
   "display_name": "AdaCLIP",
   "language": "python",
   "name": "python3"
  },
  "language_info": {
   "codemirror_mode": {
    "name": "ipython",
    "version": 3
   },
   "file_extension": ".py",
   "mimetype": "text/x-python",
   "name": "python",
   "nbconvert_exporter": "python",
   "pygments_lexer": "ipython3",
   "version": "3.9.5"
  }
 },
 "nbformat": 4,
 "nbformat_minor": 5
}
